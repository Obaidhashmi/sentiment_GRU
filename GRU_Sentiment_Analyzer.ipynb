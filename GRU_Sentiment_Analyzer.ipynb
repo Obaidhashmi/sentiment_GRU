{
  "nbformat": 4,
  "nbformat_minor": 0,
  "metadata": {
    "colab": {
      "provenance": [],
      "authorship_tag": "ABX9TyPL/WieG2CD/RvUOAVKcfzj",
      "include_colab_link": true
    },
    "kernelspec": {
      "name": "python3",
      "display_name": "Python 3"
    },
    "language_info": {
      "name": "python"
    }
  },
  "cells": [
    {
      "cell_type": "markdown",
      "metadata": {
        "id": "view-in-github",
        "colab_type": "text"
      },
      "source": [
        "<a href=\"https://colab.research.google.com/github/Mrbilalali/sentiment-analyzer/blob/main/GRU_Sentiment_Analyzer.ipynb\" target=\"_parent\"><img src=\"https://colab.research.google.com/assets/colab-badge.svg\" alt=\"Open In Colab\"/></a>"
      ]
    },
    {
      "cell_type": "code",
      "source": [
        "import pandas as pd\n",
        "import re\n",
        "from textblob import TextBlob\n",
        "from tensorflow.keras.preprocessing.text import Tokenizer\n",
        "from tensorflow.keras.preprocessing.sequence import pad_sequences\n",
        "from sklearn.preprocessing import LabelEncoder\n",
        "from tensorflow.keras.utils import to_categorical\n",
        "from tensorflow.keras.models import Sequential\n",
        "from tensorflow.keras.layers import Embedding, GRU, Dense\n"
      ],
      "metadata": {
        "id": "jRcTKB09tnkT"
      },
      "execution_count": 23,
      "outputs": []
    },
    {
      "cell_type": "markdown",
      "source": [
        "# **Drive Mount**"
      ],
      "metadata": {
        "id": "dqR0M7nyuLRa"
      }
    },
    {
      "cell_type": "code",
      "source": [
        "from google.colab import drive\n",
        "drive.mount('/content/drive/')"
      ],
      "metadata": {
        "colab": {
          "base_uri": "https://localhost:8080/"
        },
        "id": "m0Tv7FEtoP8e",
        "outputId": "27904069-7232-4392-8b94-867ffd70a896"
      },
      "execution_count": 1,
      "outputs": [
        {
          "output_type": "stream",
          "name": "stdout",
          "text": [
            "Mounted at /content/drive/\n"
          ]
        }
      ]
    },
    {
      "cell_type": "markdown",
      "source": [
        "# **Load the full dataset**"
      ],
      "metadata": {
        "id": "JNq7GP9NujQA"
      }
    },
    {
      "cell_type": "code",
      "execution_count": 10,
      "metadata": {
        "colab": {
          "base_uri": "https://localhost:8080/"
        },
        "id": "qpzlB_t7fYGO",
        "outputId": "c8e073f0-0ce9-46cb-f289-04e786102c59"
      },
      "outputs": [
        {
          "output_type": "stream",
          "name": "stdout",
          "text": [
            "Dataset subset size: 50000 reviews\n",
            "                                              review sentiment\n",
            "0  I really liked this Summerslam due to the look...  positive\n",
            "1  Not many television shows appeal to quite as m...  positive\n"
          ]
        }
      ],
      "source": [
        "df_full = pd.read_csv('/content/drive/MyDrive/IMPORTANT PORTFOLIO/Artificial Intelligence/LAB/IMDB Dataset.csv')\n",
        "\n",
        "# Take a random subset of 5000 reviews\n",
        "df = df_full.sample(n=50000, random_state=42).reset_index(drop=True)\n",
        "df = df[['review', 'sentiment']]  # only relevant columns\n",
        "print(f\"Dataset subset size: {len(df)} reviews\")\n",
        "print(df.head(2))"
      ]
    },
    {
      "cell_type": "markdown",
      "source": [
        "# **Cleaning Data**"
      ],
      "metadata": {
        "id": "W2PE4OPAu0Sx"
      }
    },
    {
      "cell_type": "code",
      "source": [
        "def clean_text(text):\n",
        "    # Remove HTML tags\n",
        "    text = re.sub(r'<.*?>', ' ', text)\n",
        "    # Lowercase\n",
        "    text = text.lower()\n",
        "    # Keep only letters and numbers (replace others with space)\n",
        "    text = re.sub(r'[^a-z0-9\\s]', ' ', text)\n",
        "    # Collapse multiple spaces\n",
        "    text = re.sub(r'\\s+', ' ', text).strip()\n",
        "    return text\n",
        "\n",
        "\n",
        "df['cleaned'] = df['review'].apply(clean_text)\n",
        "\n",
        "# Show before/after\n",
        "orig = df.loc[0, 'review']\n",
        "cleaned = df.loc[0, 'cleaned']\n",
        "print(\"Original:\", orig[:60], \"...\")\n",
        "print(\"Cleaned :\", cleaned[:60], \"...\")"
      ],
      "metadata": {
        "colab": {
          "base_uri": "https://localhost:8080/"
        },
        "id": "UVl5nfq9fa45",
        "outputId": "49f777cc-a3dc-4e44-92d0-741d4a80ebf5"
      },
      "execution_count": 11,
      "outputs": [
        {
          "output_type": "stream",
          "name": "stdout",
          "text": [
            "Original: I really liked this Summerslam due to the look of the arena, ...\n",
            "Cleaned : i really liked this summerslam due to the look of the arena  ...\n"
          ]
        }
      ]
    },
    {
      "cell_type": "markdown",
      "source": [
        "# **Data tokenizer and Pad sequences to fixed length**"
      ],
      "metadata": {
        "id": "rOpU3hSNu7iI"
      }
    },
    {
      "cell_type": "code",
      "source": [
        "max_vocab = 50000  # only keep the top 50k most frequent words\n",
        "tokenizer = Tokenizer(num_words=max_vocab, oov_token='<UNK>')\n",
        "tokenizer.fit_on_texts(df['cleaned'])\n",
        "\n",
        "# Convert texts to integer sequences\n",
        "sequences = tokenizer.texts_to_sequences(df['cleaned'])\n",
        "\n",
        "# Pad sequences to fixed length (100 words per review)\n",
        "max_len = 100\n",
        "X = pad_sequences(sequences, maxlen=max_len, padding='post')\n",
        "print(f\"Padded sequences shape: {X.shape}\")\n",
        "\n"
      ],
      "metadata": {
        "colab": {
          "base_uri": "https://localhost:8080/"
        },
        "id": "u7RiWaDnpZ3v",
        "outputId": "7de860af-e43c-4110-e7e0-a7d9266dc953"
      },
      "execution_count": 14,
      "outputs": [
        {
          "output_type": "stream",
          "name": "stdout",
          "text": [
            "Padded sequences shape: (50000, 100)\n"
          ]
        }
      ]
    },
    {
      "cell_type": "markdown",
      "source": [
        "# **Compute polarity and assign categories**"
      ],
      "metadata": {
        "id": "M6lVjLKwvYCA"
      }
    },
    {
      "cell_type": "code",
      "source": [
        "def categorize_sentiment(text, thresh=0.05):\n",
        "    score = TextBlob(text).sentiment.polarity\n",
        "    if score > thresh:\n",
        "        return 'positive'\n",
        "    elif score < -thresh:\n",
        "        return 'negative'\n",
        "    else:\n",
        "        return 'neutral'\n",
        "\n",
        "df['sentiment3'] = df['cleaned'].apply(lambda x: categorize_sentiment(x))\n",
        "print(df['sentiment3'].value_counts())"
      ],
      "metadata": {
        "colab": {
          "base_uri": "https://localhost:8080/"
        },
        "id": "idMZ1vvHp-9L",
        "outputId": "8d451df9-9677-4d9d-c6ca-b7bd0e2c10ed"
      },
      "execution_count": 15,
      "outputs": [
        {
          "output_type": "stream",
          "name": "stdout",
          "text": [
            "sentiment3\n",
            "positive    31966\n",
            "neutral     10314\n",
            "negative     7720\n",
            "Name: count, dtype: int64\n"
          ]
        }
      ]
    },
    {
      "cell_type": "markdown",
      "source": [
        "# **Encode classes to 0/1/2**"
      ],
      "metadata": {
        "id": "xn-7khH2vt8P"
      }
    },
    {
      "cell_type": "code",
      "source": [
        "le = LabelEncoder()\n",
        "y_int = le.fit_transform(df['sentiment3'])  # e.g. {'negative':0,'neutral':1,'positive':2}\n",
        "num_classes = len(le.classes_)\n",
        "Y = to_categorical(y_int, num_classes=num_classes)\n",
        "print(\"Class mapping:\", dict(zip(le.classes_, le.transform(le.classes_))))"
      ],
      "metadata": {
        "colab": {
          "base_uri": "https://localhost:8080/"
        },
        "id": "bkRgf8xYqdkZ",
        "outputId": "d57eab83-0674-49f7-a475-4c8bd905d636"
      },
      "execution_count": 16,
      "outputs": [
        {
          "output_type": "stream",
          "name": "stdout",
          "text": [
            "Class mapping: {'negative': np.int64(0), 'neutral': np.int64(1), 'positive': np.int64(2)}\n"
          ]
        }
      ]
    },
    {
      "cell_type": "markdown",
      "source": [
        "# **Data sequential**"
      ],
      "metadata": {
        "id": "AQ9y5jUWv_MP"
      }
    },
    {
      "cell_type": "code",
      "source": [
        "vocab_size = max_vocab\n",
        "embed_dim = 100\n",
        "gru_units = 64\n",
        "\n",
        "model = Sequential([\n",
        "    Embedding(input_dim=vocab_size, output_dim=embed_dim, input_length=max_len),\n",
        "    GRU(units=gru_units, dropout=0.2, recurrent_dropout=0.2),\n",
        "    Dense(units=num_classes, activation='softmax')\n",
        "])\n",
        "\n",
        "model.compile(optimizer='adam', loss='categorical_crossentropy', metrics=['accuracy'])\n"
      ],
      "metadata": {
        "id": "aY45nRa2rVlq"
      },
      "execution_count": 29,
      "outputs": []
    },
    {
      "cell_type": "code",
      "source": [
        "history = model.fit(X, Y, epochs=5, batch_size=32, validation_split=0.2)\n"
      ],
      "metadata": {
        "colab": {
          "base_uri": "https://localhost:8080/"
        },
        "id": "WkAc1M2GtgKC",
        "outputId": "a98cc4b5-3163-43aa-d4cc-c052c2def32b"
      },
      "execution_count": 30,
      "outputs": [
        {
          "output_type": "stream",
          "name": "stdout",
          "text": [
            "Epoch 1/5\n",
            "\u001b[1m1250/1250\u001b[0m \u001b[32m━━━━━━━━━━━━━━━━━━━━\u001b[0m\u001b[37m\u001b[0m \u001b[1m228s\u001b[0m 179ms/step - accuracy: 0.6509 - loss: 0.8373 - val_accuracy: 0.7419 - val_loss: 0.5760\n",
            "Epoch 2/5\n",
            "\u001b[1m1250/1250\u001b[0m \u001b[32m━━━━━━━━━━━━━━━━━━━━\u001b[0m\u001b[37m\u001b[0m \u001b[1m224s\u001b[0m 179ms/step - accuracy: 0.7829 - loss: 0.5047 - val_accuracy: 0.7459 - val_loss: 0.5706\n",
            "Epoch 3/5\n",
            "\u001b[1m1250/1250\u001b[0m \u001b[32m━━━━━━━━━━━━━━━━━━━━\u001b[0m\u001b[37m\u001b[0m \u001b[1m263s\u001b[0m 180ms/step - accuracy: 0.8572 - loss: 0.3525 - val_accuracy: 0.7299 - val_loss: 0.6439\n",
            "Epoch 4/5\n",
            "\u001b[1m1250/1250\u001b[0m \u001b[32m━━━━━━━━━━━━━━━━━━━━\u001b[0m\u001b[37m\u001b[0m \u001b[1m263s\u001b[0m 181ms/step - accuracy: 0.9151 - loss: 0.2269 - val_accuracy: 0.7135 - val_loss: 0.8220\n",
            "Epoch 5/5\n",
            "\u001b[1m1250/1250\u001b[0m \u001b[32m━━━━━━━━━━━━━━━━━━━━\u001b[0m\u001b[37m\u001b[0m \u001b[1m223s\u001b[0m 178ms/step - accuracy: 0.9522 - loss: 0.1381 - val_accuracy: 0.7170 - val_loss: 1.0013\n"
          ]
        }
      ]
    },
    {
      "cell_type": "markdown",
      "source": [
        "# **Example texts for prediction**"
      ],
      "metadata": {
        "id": "Jb6VqtMUx4z3"
      }
    },
    {
      "cell_type": "code",
      "source": [
        "sample_texts = [\n",
        "    \"I absolutely loved this movie, it was fantastic!\",   # likely Positive\n",
        "    \"The movie was okay, not great but not terrible.\",    # maybe Neutral\n",
        "    \"I hated the film; it was the worst I've seen.\",     # likely Negative\n",
        "    \"An utterly boring and dull movie that I disliked.\"  # likely Negative\n",
        "]\n",
        "\n",
        "# Preprocess texts (same cleaning and tokenization as training data)\n",
        "sample_clean = [clean_text(t) for t in sample_texts]\n",
        "seqs = tokenizer.texts_to_sequences(sample_clean)\n",
        "pads = pad_sequences(seqs, maxlen=max_len, padding='post')\n",
        "\n",
        "# Predict\n",
        "pred_probs = model.predict(pads)\n",
        "pred_indices = pred_probs.argmax(axis=1)\n",
        "pred_classes = [le.classes_[i] for i in pred_indices]\n",
        "\n",
        "# Print results\n",
        "for text, pred in zip(sample_texts, pred_classes):\n",
        "    print(f\"Review: {text}\\nPredicted sentiment: {pred}\\n\")\n"
      ],
      "metadata": {
        "colab": {
          "base_uri": "https://localhost:8080/"
        },
        "id": "HFV0aho_tjUB",
        "outputId": "3c3d0536-db08-47de-e177-0b81f616bdf8"
      },
      "execution_count": 31,
      "outputs": [
        {
          "output_type": "stream",
          "name": "stdout",
          "text": [
            "\u001b[1m1/1\u001b[0m \u001b[32m━━━━━━━━━━━━━━━━━━━━\u001b[0m\u001b[37m\u001b[0m \u001b[1m1s\u001b[0m 587ms/step\n",
            "Review: I absolutely loved this movie, it was fantastic!\n",
            "Predicted sentiment: positive\n",
            "\n",
            "Review: The movie was okay, not great but not terrible.\n",
            "Predicted sentiment: positive\n",
            "\n",
            "Review: I hated the film; it was the worst I've seen.\n",
            "Predicted sentiment: negative\n",
            "\n",
            "Review: An utterly boring and dull movie that I disliked.\n",
            "Predicted sentiment: negative\n",
            "\n"
          ]
        }
      ]
    },
    {
      "cell_type": "markdown",
      "source": [
        " # **saves architecture, weights, and optimizer state**"
      ],
      "metadata": {
        "id": "cL_B2mdT7rdo"
      }
    },
    {
      "cell_type": "code",
      "source": [
        "from tensorflow.keras.models import load_model\n",
        "# ... after training your GRU model ...\n",
        "model.save('gru_model.h5')\n"
      ],
      "metadata": {
        "colab": {
          "base_uri": "https://localhost:8080/"
        },
        "id": "kn_MRV9J0kFz",
        "outputId": "813c5e2c-d5da-4e98-ad7d-2ac699ae2d85"
      },
      "execution_count": 32,
      "outputs": [
        {
          "output_type": "stream",
          "name": "stderr",
          "text": [
            "WARNING:absl:You are saving your model as an HDF5 file via `model.save()` or `keras.saving.save_model(model)`. This file format is considered legacy. We recommend using instead the native Keras format, e.g. `model.save('my_model.keras')` or `keras.saving.save_model(model, 'my_model.keras')`. \n"
          ]
        }
      ]
    },
    {
      "cell_type": "markdown",
      "source": [],
      "metadata": {
        "id": "BpqcdYs97zFn"
      }
    },
    {
      "cell_type": "markdown",
      "source": [
        "# **Assume tokenizer is your fitted Keras Tokenizer object**"
      ],
      "metadata": {
        "id": "eodauAez722G"
      }
    },
    {
      "cell_type": "code",
      "source": [
        "import pickle\n",
        "with open('tokenizer.pickle', 'wb') as handle:\n",
        "    pickle.dump(tokenizer, handle, protocol=pickle.HIGHEST_PROTOCOL)\n"
      ],
      "metadata": {
        "id": "DuDVGYQf0lr6"
      },
      "execution_count": 33,
      "outputs": []
    }
  ]
}